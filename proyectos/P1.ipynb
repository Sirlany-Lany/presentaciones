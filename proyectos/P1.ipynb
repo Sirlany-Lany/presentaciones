{
 "cells": [
  {
   "attachments": {},
   "cell_type": "markdown",
   "metadata": {},
   "source": [
    "---\n",
    "### Universidad de Costa Rica\n",
    "#### IE0405 - Modelos Probabilísticos de Señales y Sistemas\n",
    "---\n",
    "\n",
    "# `P1` - *Introducción a Python*\n",
    "\n",
    "> Este es un ejercicio de introducción a Python como lenguaje para computación científica y cálculo numérico. Estas mismas herramientas (y otras) serán fundamentales en el resto del curso para apoyar la solución de problemas de la teoría de probabilidad.\n",
    "\n",
    "**Nota**: Es recomendable revisar los tutoriales `Py0`, `Py1` y `Py2` (disponibles en [GitHub](https://github.com/fabianabarca/mpss)) para conocer las bases de Python útiles en la ejecución de este laboratorio.\n",
    "\n",
    "*Fabián Abarca Calderón*"
   ]
  },
  {
   "cell_type": "markdown",
   "metadata": {},
   "source": [
    "---\n",
    "## Problema\n",
    "\n",
    "El documento `compras.csv` describe las compras de $N$ clientes que entraron a una pequeña tienda que vende solamente cuatro productos: A, B, C y D. En esta tabla, los clientes están numerados del 1 al $N$ y en la $n$-ésima fila las columnas \"A\", \"B\", \"C\" y \"D\" tienen un 1 cuando la persona compró el producto o un 0 cuando no. Por ejemplo:\n",
    "\n",
    "| Cliente | A | B | C | D |\n",
    "|---------|---|---|---|---|\n",
    "| 1       | 0 | 1 | 0 | 1 |\n",
    "| 2       | 1 | 0 | 1 | 0 |\n",
    "| 3       | 0 | 0 | 0 | 0 |\n",
    "| 4       | 0 | 1 | 1 | 0 |\n",
    "\n",
    "### Asignaciones\n",
    "\n",
    "1. [15%] Importar los datos y encontrar la frecuencia relativa de compra de cada producto (porcentaje de clientes que compraron cada producto).\n",
    "\n",
    "2. [10%] Crear una gráfica de barras, donde la altura de cada barra representa la cantidad de compras de cada producto. Por ejemplo:\n",
    "\n",
    "<img src=\"https://matplotlib.org/stable/_images/sphx_glr_bar_001.png\" width=\"200px\">\n",
    "\n",
    "> Nota: la gráfica y sus ejes deben estar rotulados.\n",
    "\n",
    "3. [20%] Encontrar la frecuencia relativa de todas las combinaciones de los cuatro productos vendidos. Por ejemplo: un cliente que compra todos los productos (1, 1, 1, 1) es una combinación, un cliente que solamente compra el producto C (0, 0, 1, 0) es otra combinación.\n",
    "\n",
    "4. [10%] Crear una gráfica de frecuencia relativa donde muestre las ocurrencias de cada combinación, encontradas en el inciso anterior.\n",
    "\n",
    "5. [30%] Encontrar la probabilidad de las uniones de dos conjuntos y tres conjuntos, asignados para cada persona por la función `asignacion()`. Por ejemplo: $P(A \\cup B)$ y $P(A \\cup B \\cup C)$. Especificar las ecuaciones utilizadas, si fue el caso.\n",
    "\n",
    "7. [15%] Si un cliente compró el producto P1, ¿cuál es la probabilidad de haber comprado también el producto P2? Donde P1 y P2 son asignados con la función `asignacion()`.\n",
    "\n",
    "#### Función de asignación\n",
    "\n",
    "Ejemplo: si el carné es B12345, utilizar la parte numérica como argumento de la función, es decir: `asignacion(12345)`. Esto va a generar resultados aleatorios pero fijos, o sea, que serán los mismos aun cuando se ejecute varias veces el programa."
   ]
  },
  {
   "cell_type": "code",
   "execution_count": null,
   "metadata": {},
   "outputs": [],
   "source": [
    "import random\n",
    "\n",
    "def asignacion(digitos):\n",
    "    '''Función que asigna dos combinaciones\n",
    "    de dos y tres conjuntos a cada persona\n",
    "    con base en los dígitos de su carné.\n",
    "    '''\n",
    "    opciones = ('A', 'B', 'C', 'D')\n",
    "    random.seed(digitos)\n",
    "    A1, A2 = random.sample(opciones, k=2)\n",
    "    B1, B2, B3 = random.sample(opciones, k=3)\n",
    "    P1, P2 = random.sample(opciones, k=2)\n",
    "    print('Asignación:\\nP({} u {})\\nP({} u {} u {})\\nP1 = {}, P2 = {}'.format(A1, A2, B1, B2, B3, P1, P2))\n",
    "    return\n",
    "\n",
    "# Llamar la función con los dígitos numéricos del carné\n",
    "asignacion(12345)"
   ]
  },
  {
   "cell_type": "markdown",
   "metadata": {},
   "source": [
    "---\n",
    "**Forma de entrega**\n",
    "\n",
    "- Puede utilizar este archivo `.ipynb` como base.\n",
    "- Recuerde convertir el archivo con su *solución comentada* para entregarlo en formato HTML (para visualizar en web), en **File > Download as > HTML (.html)** y ponerle el nombre `[carné].html` (ejemplo: B12345.html)."
   ]
  },
  {
   "cell_type": "markdown",
   "metadata": {},
   "source": [
    "---\n",
    "**Universidad de Costa Rica** | Facultad de Ingeniería | Escuela de Ingeniería Eléctrica\n",
    "\n",
    "&copy; 2022\n",
    "\n",
    "---"
   ]
  }
 ],
 "metadata": {
  "kernelspec": {
   "display_name": "Python 3 (ipykernel)",
   "language": "python",
   "name": "python3"
  },
  "language_info": {
   "codemirror_mode": {
    "name": "ipython",
    "version": 3
   },
   "file_extension": ".py",
   "mimetype": "text/x-python",
   "name": "python",
   "nbconvert_exporter": "python",
   "pygments_lexer": "ipython3",
   "version": "3.9.12"
  }
 },
 "nbformat": 4,
 "nbformat_minor": 2
}
